{
  "cells": [
    {
      "cell_type": "markdown",
      "metadata": {
        "id": "dd5XGIjBjd_K"
      },
      "source": [
        "**Author:** Soham Bopardikar  \n",
        "**Advisor:** Hanrui Wang"
      ]
    },
    {
      "cell_type": "markdown",
      "metadata": {
        "id": "ODpUdXvMrYuD"
      },
      "source": [
        "# Superdense Coding\n",
        "Superdense coding is a quantum communication protocol that allows the transmission of two classical bits of information using only one qubit`[1]`. It takes advantage of quantum entanglement and the ability to manipulate qubits in superposition. Charles H. Bennett and Stephen Wiesner proposed this technique in 1970(though it was not published until 1992 `[2]`) and it was experimentally realised in 1996 by Klaus Mattle, Harald Weinfurter, Paul G. Kwiat, and Anton Zeilinger utilising entangled photon pairs.\n",
        "\n",
        "![image.png](data:image/png;base64,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)\n",
        "\n",
        "In this tutorial, we will learn how to implement superdense coding using the `torchquantum` library. We will cover the following steps:-\n",
        "\n",
        "### **Step 1 - Preparing the entangled state/ 2 qubit bell pair.**\n",
        "\n",
        "First, a bell pair of two qubits is created. Where q0 represents the sender's qubit and q1 represents the receiver's qubit. A hadamard gate is used to place q0 in a superposition of states. Then, with q0 as the control and q1 as the target, a CNOT operation is conducted.\n",
        "\n",
        "![image.png](data:image/png;base64,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)\n",
        "\n",
        "\n",
        "### **Step 2 - Encoding the message**\n",
        "\n",
        "Rules:\n",
        "\n",
        "\n",
        "a) For sending 00 - Perform no operation. \n",
        "\n",
        "b) For sending 01 - Perform a Pauli-Z operation where q1s state is flipped.\n",
        "\n",
        "c) For sending 10 - Apply a Pauli-X gate. \n",
        "\n",
        "d) For sending 11 - Apply a Pauli-Z gate followed by a Pauli-X gate.\n",
        "\n",
        "### **Step 3 - Decoding the message**\n",
        "\n",
        "Bob gets Alice's qubit (leftmost qubit) and decodes the message sent. He does not need to know the state to decode it; instead, he simply applies the restoration operation. Bob employs a CNOT gate, with the leftmost qubit serving as control and the rightmost serving as target. Then he uses a Hadamard gate and eventually measures both qubits to extract the sent message.\n",
        "\n",
        "\n",
        "![image.png](data:image/png;base64,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)\n",
        "\n",
        "\n",
        "### **Step 4 - Measurement**\n",
        "\n",
        "In superdense coding, measurement plays a crucial role in extracting the classical bits that Alice encoded. After Bob has applied the decoding gates, he performs a measurement on both qubits to extract the information.\n"
      ]
    },
    {
      "cell_type": "markdown",
      "metadata": {
        "id": "MLrQMHvMOBFB"
      },
      "source": [
        "## Installation"
      ]
    },
    {
      "cell_type": "code",
      "execution_count": null,
      "metadata": {
        "colab": {
          "base_uri": "https://localhost:8080/"
        },
        "id": "dW_Cy1QyXbcB",
        "outputId": "796f970d-f660-453a-f1a2-ae3b84b711b7"
      },
      "outputs": [
        {
          "name": "stdout",
          "output_type": "stream",
          "text": [
            "Cloning into 'torchquantum'...\n",
            "remote: Enumerating objects: 12494, done.\u001b[K\n",
            "remote: Counting objects: 100% (765/765), done.\u001b[K\n",
            "remote: Compressing objects: 100% (345/345), done.\u001b[K\n",
            "remote: Total 12494 (delta 423), reused 674 (delta 392), pack-reused 11729\u001b[K\n",
            "Receiving objects: 100% (12494/12494), 74.92 MiB | 31.26 MiB/s, done.\n",
            "Resolving deltas: 100% (6780/6780), done.\n"
          ]
        }
      ],
      "source": [
        "!git clone https://github.com/mit-han-lab/torchquantum.git"
      ]
    },
    {
      "cell_type": "code",
      "execution_count": null,
      "metadata": {
        "colab": {
          "base_uri": "https://localhost:8080/"
        },
        "id": "7QP0AcjaFdko",
        "outputId": "8fd5df5d-1bab-4ba8-e0a1-cf1423918f5f"
      },
      "outputs": [
        {
          "name": "stdout",
          "output_type": "stream",
          "text": [
            "/content/torchquantum\n"
          ]
        }
      ],
      "source": [
        "%cd torchquantum"
      ]
    },
    {
      "cell_type": "code",
      "execution_count": null,
      "metadata": {
        "colab": {
          "base_uri": "https://localhost:8080/"
        },
        "id": "k0v6FtlqFfyh",
        "outputId": "892b70e9-ec49-4330-bb64-40b9dce70b9a"
      },
      "outputs": [
        {
          "name": "stdout",
          "output_type": "stream",
          "text": [
            "Looking in indexes: https://pypi.org/simple, https://us-python.pkg.dev/colab-wheels/public/simple/\n",
            "Obtaining file:///content/torchquantum\n",
            "  Preparing metadata (setup.py) ... \u001b[?25l\u001b[?25hdone\n",
            "Requirement already satisfied: numpy>=1.19.2 in /usr/local/lib/python3.10/dist-packages (from torchquantum==0.1.7) (1.22.4)\n",
            "Requirement already satisfied: torchvision>=0.9.0.dev20210130 in /usr/local/lib/python3.10/dist-packages (from torchquantum==0.1.7) (0.15.2+cu118)\n",
            "Requirement already satisfied: tqdm>=4.56.0 in /usr/local/lib/python3.10/dist-packages (from torchquantum==0.1.7) (4.65.0)\n",
            "Requirement already satisfied: setuptools>=52.0.0 in /usr/local/lib/python3.10/dist-packages (from torchquantum==0.1.7) (67.7.2)\n",
            "Requirement already satisfied: torch>=1.8.0 in /usr/local/lib/python3.10/dist-packages (from torchquantum==0.1.7) (2.0.1+cu118)\n",
            "Collecting torchpack>=0.3.0 (from torchquantum==0.1.7)\n",
            "  Downloading torchpack-0.3.1-py3-none-any.whl (34 kB)\n",
            "Collecting qiskit==0.38.0 (from torchquantum==0.1.7)\n",
            "  Downloading qiskit-0.38.0.tar.gz (13 kB)\n",
            "  Preparing metadata (setup.py) ... \u001b[?25l\u001b[?25hdone\n",
            "Requirement already satisfied: matplotlib>=3.3.2 in /usr/local/lib/python3.10/dist-packages (from torchquantum==0.1.7) (3.7.1)\n",
            "Collecting pathos>=0.2.7 (from torchquantum==0.1.7)\n",
            "  Downloading pathos-0.3.0-py3-none-any.whl (79 kB)\n",
            "\u001b[2K     \u001b[90m━━━━━━━━━━━━━━━━━━━━━━━━━━━━━━━━━━━━━━━━\u001b[0m \u001b[32m79.8/79.8 kB\u001b[0m \u001b[31m7.5 MB/s\u001b[0m eta \u001b[36m0:00:00\u001b[0m\n",
            "\u001b[?25hCollecting pylatexenc>=2.10 (from torchquantum==0.1.7)\n",
            "  Downloading pylatexenc-2.10.tar.gz (162 kB)\n",
            "\u001b[2K     \u001b[90m━━━━━━━━━━━━━━━━━━━━━━━━━━━━━━━━━━━━━━\u001b[0m \u001b[32m162.6/162.6 kB\u001b[0m \u001b[31m15.6 MB/s\u001b[0m eta \u001b[36m0:00:00\u001b[0m\n",
            "\u001b[?25h  Preparing metadata (setup.py) ... \u001b[?25l\u001b[?25hdone\n",
            "Collecting dill==0.3.4 (from torchquantum==0.1.7)\n",
            "  Downloading dill-0.3.4-py2.py3-none-any.whl (86 kB)\n",
            "\u001b[2K     \u001b[90m━━━━━━━━━━━━━━━━━━━━━━━━━━━━━━━━━━━━━━━━\u001b[0m \u001b[32m86.9/86.9 kB\u001b[0m \u001b[31m3.5 MB/s\u001b[0m eta \u001b[36m0:00:00\u001b[0m\n",
            "\u001b[?25hCollecting qiskit-terra==0.21.2 (from qiskit==0.38.0->torchquantum==0.1.7)\n",
            "  Downloading qiskit_terra-0.21.2-cp310-cp310-manylinux_2_17_x86_64.manylinux2014_x86_64.whl (6.7 MB)\n",
            "\u001b[2K     \u001b[90m━━━━━━━━━━━━━━━━━━━━━━━━━━━━━━━━━━━━━━━━\u001b[0m \u001b[32m6.7/6.7 MB\u001b[0m \u001b[31m58.1 MB/s\u001b[0m eta \u001b[36m0:00:00\u001b[0m\n",
            "\u001b[?25hCollecting qiskit-aer==0.11.0 (from qiskit==0.38.0->torchquantum==0.1.7)\n",
            "  Downloading qiskit_aer-0.11.0-cp310-cp310-manylinux_2_17_x86_64.manylinux2014_x86_64.whl (19.2 MB)\n",
            "\u001b[2K     \u001b[90m━━━━━━━━━━━━━━━━━━━━━━━━━━━━━━━━━━━━━━━━\u001b[0m \u001b[32m19.2/19.2 MB\u001b[0m \u001b[31m58.5 MB/s\u001b[0m eta \u001b[36m0:00:00\u001b[0m\n",
            "\u001b[?25hCollecting qiskit-ibmq-provider==0.19.2 (from qiskit==0.38.0->torchquantum==0.1.7)\n",
            "  Downloading qiskit_ibmq_provider-0.19.2-py3-none-any.whl (240 kB)\n",
            "\u001b[2K     \u001b[90m━━━━━━━━━━━━━━━━━━━━━━━━━━━━━━━━━━━━━━\u001b[0m \u001b[32m240.4/240.4 kB\u001b[0m \u001b[31m22.8 MB/s\u001b[0m eta \u001b[36m0:00:00\u001b[0m\n",
            "\u001b[?25hRequirement already satisfied: scipy>=1.0 in /usr/local/lib/python3.10/dist-packages (from qiskit-aer==0.11.0->qiskit==0.38.0->torchquantum==0.1.7) (1.10.1)\n",
            "Requirement already satisfied: requests>=2.19 in /usr/local/lib/python3.10/dist-packages (from qiskit-ibmq-provider==0.19.2->qiskit==0.38.0->torchquantum==0.1.7) (2.27.1)\n",
            "Collecting requests-ntlm>=1.1.0 (from qiskit-ibmq-provider==0.19.2->qiskit==0.38.0->torchquantum==0.1.7)\n",
            "  Downloading requests_ntlm-1.2.0-py3-none-any.whl (6.0 kB)\n",
            "Requirement already satisfied: urllib3>=1.21.1 in /usr/local/lib/python3.10/dist-packages (from qiskit-ibmq-provider==0.19.2->qiskit==0.38.0->torchquantum==0.1.7) (1.26.15)\n",
            "Requirement already satisfied: python-dateutil>=2.8.0 in /usr/local/lib/python3.10/dist-packages (from qiskit-ibmq-provider==0.19.2->qiskit==0.38.0->torchquantum==0.1.7) (2.8.2)\n",
            "Requirement already satisfied: websocket-client>=1.0.1 in /usr/local/lib/python3.10/dist-packages (from qiskit-ibmq-provider==0.19.2->qiskit==0.38.0->torchquantum==0.1.7) (1.5.1)\n",
            "Collecting websockets>=10.0 (from qiskit-ibmq-provider==0.19.2->qiskit==0.38.0->torchquantum==0.1.7)\n",
            "  Downloading websockets-11.0.3-cp310-cp310-manylinux_2_5_x86_64.manylinux1_x86_64.manylinux_2_17_x86_64.manylinux2014_x86_64.whl (129 kB)\n",
            "\u001b[2K     \u001b[90m━━━━━━━━━━━━━━━━━━━━━━━━━━━━━━━━━━━━━━\u001b[0m \u001b[32m129.9/129.9 kB\u001b[0m \u001b[31m13.7 MB/s\u001b[0m eta \u001b[36m0:00:00\u001b[0m\n",
            "\u001b[?25hCollecting retworkx>=0.11.0 (from qiskit-terra==0.21.2->qiskit==0.38.0->torchquantum==0.1.7)\n",
            "  Downloading retworkx-0.12.1-py3-none-any.whl (10 kB)\n",
            "Collecting ply>=3.10 (from qiskit-terra==0.21.2->qiskit==0.38.0->torchquantum==0.1.7)\n",
            "  Downloading ply-3.11-py2.py3-none-any.whl (49 kB)\n",
            "\u001b[2K     \u001b[90m━━━━━━━━━━━━━━━━━━━━━━━━━━━━━━━━━━━━━━━━\u001b[0m \u001b[32m49.6/49.6 kB\u001b[0m \u001b[31m5.2 MB/s\u001b[0m eta \u001b[36m0:00:00\u001b[0m\n",
            "\u001b[?25hRequirement already satisfied: psutil>=5 in /usr/local/lib/python3.10/dist-packages (from qiskit-terra==0.21.2->qiskit==0.38.0->torchquantum==0.1.7) (5.9.5)\n",
            "Requirement already satisfied: sympy>=1.3 in /usr/local/lib/python3.10/dist-packages (from qiskit-terra==0.21.2->qiskit==0.38.0->torchquantum==0.1.7) (1.11.1)\n",
            "Collecting stevedore>=3.0.0 (from qiskit-terra==0.21.2->qiskit==0.38.0->torchquantum==0.1.7)\n",
            "  Downloading stevedore-5.1.0-py3-none-any.whl (49 kB)\n",
            "\u001b[2K     \u001b[90m━━━━━━━━━━━━━━━━━━━━━━━━━━━━━━━━━━━━━━━━\u001b[0m \u001b[32m49.6/49.6 kB\u001b[0m \u001b[31m5.1 MB/s\u001b[0m eta \u001b[36m0:00:00\u001b[0m\n",
            "\u001b[?25hCollecting tweedledum<2.0,>=1.1 (from qiskit-terra==0.21.2->qiskit==0.38.0->torchquantum==0.1.7)\n",
            "  Downloading tweedledum-1.1.1-cp310-cp310-manylinux_2_12_x86_64.manylinux2010_x86_64.whl (929 kB)\n",
            "\u001b[2K     \u001b[90m━━━━━━━━━━━━━━━━━━━━━━━━━━━━━━━━━━━━━━\u001b[0m \u001b[32m929.7/929.7 kB\u001b[0m \u001b[31m59.3 MB/s\u001b[0m eta \u001b[36m0:00:00\u001b[0m\n",
            "\u001b[?25hCollecting symengine>=0.9 (from qiskit-terra==0.21.2->qiskit==0.38.0->torchquantum==0.1.7)\n",
            "  Downloading symengine-0.10.0-cp310-cp310-manylinux_2_12_x86_64.manylinux2010_x86_64.whl (37.4 MB)\n",
            "\u001b[2K     \u001b[90m━━━━━━━━━━━━━━━━━━━━━━━━━━━━━━━━━━━━━━━━\u001b[0m \u001b[32m37.4/37.4 MB\u001b[0m \u001b[31m18.7 MB/s\u001b[0m eta \u001b[36m0:00:00\u001b[0m\n",
            "\u001b[?25hRequirement already satisfied: contourpy>=1.0.1 in /usr/local/lib/python3.10/dist-packages (from matplotlib>=3.3.2->torchquantum==0.1.7) (1.0.7)\n",
            "Requirement already satisfied: cycler>=0.10 in /usr/local/lib/python3.10/dist-packages (from matplotlib>=3.3.2->torchquantum==0.1.7) (0.11.0)\n",
            "Requirement already satisfied: fonttools>=4.22.0 in /usr/local/lib/python3.10/dist-packages (from matplotlib>=3.3.2->torchquantum==0.1.7) (4.39.3)\n",
            "Requirement already satisfied: kiwisolver>=1.0.1 in /usr/local/lib/python3.10/dist-packages (from matplotlib>=3.3.2->torchquantum==0.1.7) (1.4.4)\n",
            "Requirement already satisfied: packaging>=20.0 in /usr/local/lib/python3.10/dist-packages (from matplotlib>=3.3.2->torchquantum==0.1.7) (23.1)\n",
            "Requirement already satisfied: pillow>=6.2.0 in /usr/local/lib/python3.10/dist-packages (from matplotlib>=3.3.2->torchquantum==0.1.7) (8.4.0)\n",
            "Requirement already satisfied: pyparsing>=2.3.1 in /usr/local/lib/python3.10/dist-packages (from matplotlib>=3.3.2->torchquantum==0.1.7) (3.0.9)\n",
            "Collecting ppft>=1.7.6.6 (from pathos>=0.2.7->torchquantum==0.1.7)\n",
            "  Downloading ppft-1.7.6.6-py3-none-any.whl (52 kB)\n",
            "\u001b[2K     \u001b[90m━━━━━━━━━━━━━━━━━━━━━━━━━━━━━━━━━━━━━━━━\u001b[0m \u001b[32m52.8/52.8 kB\u001b[0m \u001b[31m6.1 MB/s\u001b[0m eta \u001b[36m0:00:00\u001b[0m\n",
            "\u001b[?25hINFO: pip is looking at multiple versions of pathos to determine which version is compatible with other requirements. This could take a while.\n",
            "Collecting pathos>=0.2.7 (from torchquantum==0.1.7)\n",
            "  Downloading pathos-0.2.9-py3-none-any.whl (76 kB)\n",
            "\u001b[2K     \u001b[90m━━━━━━━━━━━━━━━━━━━━━━━━━━━━━━━━━━━━━━━━\u001b[0m \u001b[32m76.9/76.9 kB\u001b[0m \u001b[31m7.8 MB/s\u001b[0m eta \u001b[36m0:00:00\u001b[0m\n",
            "\u001b[?25h  Downloading pathos-0.2.8-py2.py3-none-any.whl (81 kB)\n",
            "\u001b[2K     \u001b[90m━━━━━━━━━━━━━━━━━━━━━━━━━━━━━━━━━━━━━━━━\u001b[0m \u001b[32m81.7/81.7 kB\u001b[0m \u001b[31m9.1 MB/s\u001b[0m eta \u001b[36m0:00:00\u001b[0m\n",
            "\u001b[?25hCollecting multiprocess>=0.70.12 (from pathos>=0.2.7->torchquantum==0.1.7)\n",
            "  Downloading multiprocess-0.70.14-py310-none-any.whl (134 kB)\n",
            "\u001b[2K     \u001b[90m━━━━━━━━━━━━━━━━━━━━━━━━━━━━━━━━━━━━━━\u001b[0m \u001b[32m134.3/134.3 kB\u001b[0m \u001b[31m13.7 MB/s\u001b[0m eta \u001b[36m0:00:00\u001b[0m\n",
            "\u001b[?25hCollecting pox>=0.3.0 (from pathos>=0.2.7->torchquantum==0.1.7)\n",
            "  Downloading pox-0.3.2-py3-none-any.whl (29 kB)\n",
            "Requirement already satisfied: filelock in /usr/local/lib/python3.10/dist-packages (from torch>=1.8.0->torchquantum==0.1.7) (3.12.0)\n",
            "Requirement already satisfied: typing-extensions in /usr/local/lib/python3.10/dist-packages (from torch>=1.8.0->torchquantum==0.1.7) (4.5.0)\n",
            "Requirement already satisfied: networkx in /usr/local/lib/python3.10/dist-packages (from torch>=1.8.0->torchquantum==0.1.7) (3.1)\n",
            "Requirement already satisfied: jinja2 in /usr/local/lib/python3.10/dist-packages (from torch>=1.8.0->torchquantum==0.1.7) (3.1.2)\n",
            "Requirement already satisfied: triton==2.0.0 in /usr/local/lib/python3.10/dist-packages (from torch>=1.8.0->torchquantum==0.1.7) (2.0.0)\n",
            "Requirement already satisfied: cmake in /usr/local/lib/python3.10/dist-packages (from triton==2.0.0->torch>=1.8.0->torchquantum==0.1.7) (3.25.2)\n",
            "Requirement already satisfied: lit in /usr/local/lib/python3.10/dist-packages (from triton==2.0.0->torch>=1.8.0->torchquantum==0.1.7) (16.0.5)\n",
            "Requirement already satisfied: h5py in /usr/local/lib/python3.10/dist-packages (from torchpack>=0.3.0->torchquantum==0.1.7) (3.8.0)\n",
            "Collecting loguru (from torchpack>=0.3.0->torchquantum==0.1.7)\n",
            "  Downloading loguru-0.7.0-py3-none-any.whl (59 kB)\n",
            "\u001b[2K     \u001b[90m━━━━━━━━━━━━━━━━━━━━━━━━━━━━━━━━━━━━━━━━\u001b[0m \u001b[32m60.0/60.0 kB\u001b[0m \u001b[31m5.3 MB/s\u001b[0m eta \u001b[36m0:00:00\u001b[0m\n",
            "\u001b[?25hCollecting multimethod (from torchpack>=0.3.0->torchquantum==0.1.7)\n",
            "  Downloading multimethod-1.9.1-py3-none-any.whl (10 kB)\n",
            "Requirement already satisfied: pyyaml in /usr/local/lib/python3.10/dist-packages (from torchpack>=0.3.0->torchquantum==0.1.7) (6.0)\n",
            "Requirement already satisfied: tensorboard in /usr/local/lib/python3.10/dist-packages (from torchpack>=0.3.0->torchquantum==0.1.7) (2.12.2)\n",
            "Collecting tensorpack (from torchpack>=0.3.0->torchquantum==0.1.7)\n",
            "  Downloading tensorpack-0.11-py2.py3-none-any.whl (296 kB)\n",
            "\u001b[2K     \u001b[90m━━━━━━━━━━━━━━━━━━━━━━━━━━━━━━━━━━━━━━\u001b[0m \u001b[32m296.3/296.3 kB\u001b[0m \u001b[31m26.0 MB/s\u001b[0m eta \u001b[36m0:00:00\u001b[0m\n",
            "\u001b[?25hRequirement already satisfied: toml in /usr/local/lib/python3.10/dist-packages (from torchpack>=0.3.0->torchquantum==0.1.7) (0.10.2)\n",
            "INFO: pip is looking at multiple versions of multiprocess to determine which version is compatible with other requirements. This could take a while.\n",
            "Collecting multiprocess>=0.70.12 (from pathos>=0.2.7->torchquantum==0.1.7)\n",
            "  Downloading multiprocess-0.70.13-py310-none-any.whl (133 kB)\n",
            "\u001b[2K     \u001b[90m━━━━━━━━━━━━━━━━━━━━━━━━━━━━━━━━━━━━━━\u001b[0m \u001b[32m133.1/133.1 kB\u001b[0m \u001b[31m13.6 MB/s\u001b[0m eta \u001b[36m0:00:00\u001b[0m\n",
            "\u001b[?25h  Downloading multiprocess-0.70.12.2-py39-none-any.whl (128 kB)\n",
            "\u001b[2K     \u001b[90m━━━━━━━━━━━━━━━━━━━━━━━━━━━━━━━━━━━━━━\u001b[0m \u001b[32m128.7/128.7 kB\u001b[0m \u001b[31m14.4 MB/s\u001b[0m eta \u001b[36m0:00:00\u001b[0m\n",
            "\u001b[?25hRequirement already satisfied: six>=1.5 in /usr/local/lib/python3.10/dist-packages (from python-dateutil>=2.8.0->qiskit-ibmq-provider==0.19.2->qiskit==0.38.0->torchquantum==0.1.7) (1.16.0)\n",
            "Requirement already satisfied: certifi>=2017.4.17 in /usr/local/lib/python3.10/dist-packages (from requests>=2.19->qiskit-ibmq-provider==0.19.2->qiskit==0.38.0->torchquantum==0.1.7) (2022.12.7)\n",
            "Requirement already satisfied: charset-normalizer~=2.0.0 in /usr/local/lib/python3.10/dist-packages (from requests>=2.19->qiskit-ibmq-provider==0.19.2->qiskit==0.38.0->torchquantum==0.1.7) (2.0.12)\n",
            "Requirement already satisfied: idna<4,>=2.5 in /usr/local/lib/python3.10/dist-packages (from requests>=2.19->qiskit-ibmq-provider==0.19.2->qiskit==0.38.0->torchquantum==0.1.7) (3.4)\n",
            "Requirement already satisfied: mpmath>=0.19 in /usr/local/lib/python3.10/dist-packages (from sympy>=1.3->qiskit-terra==0.21.2->qiskit==0.38.0->torchquantum==0.1.7) (1.3.0)\n",
            "Requirement already satisfied: MarkupSafe>=2.0 in /usr/local/lib/python3.10/dist-packages (from jinja2->torch>=1.8.0->torchquantum==0.1.7) (2.1.2)\n",
            "Requirement already satisfied: absl-py>=0.4 in /usr/local/lib/python3.10/dist-packages (from tensorboard->torchpack>=0.3.0->torchquantum==0.1.7) (1.4.0)\n",
            "Requirement already satisfied: grpcio>=1.48.2 in /usr/local/lib/python3.10/dist-packages (from tensorboard->torchpack>=0.3.0->torchquantum==0.1.7) (1.54.0)\n",
            "Requirement already satisfied: google-auth<3,>=1.6.3 in /usr/local/lib/python3.10/dist-packages (from tensorboard->torchpack>=0.3.0->torchquantum==0.1.7) (2.17.3)\n",
            "Requirement already satisfied: google-auth-oauthlib<1.1,>=0.5 in /usr/local/lib/python3.10/dist-packages (from tensorboard->torchpack>=0.3.0->torchquantum==0.1.7) (1.0.0)\n",
            "Requirement already satisfied: markdown>=2.6.8 in /usr/local/lib/python3.10/dist-packages (from tensorboard->torchpack>=0.3.0->torchquantum==0.1.7) (3.4.3)\n",
            "Requirement already satisfied: protobuf>=3.19.6 in /usr/local/lib/python3.10/dist-packages (from tensorboard->torchpack>=0.3.0->torchquantum==0.1.7) (3.20.3)\n",
            "Requirement already satisfied: tensorboard-data-server<0.8.0,>=0.7.0 in /usr/local/lib/python3.10/dist-packages (from tensorboard->torchpack>=0.3.0->torchquantum==0.1.7) (0.7.0)\n",
            "Requirement already satisfied: tensorboard-plugin-wit>=1.6.0 in /usr/local/lib/python3.10/dist-packages (from tensorboard->torchpack>=0.3.0->torchquantum==0.1.7) (1.8.1)\n",
            "Requirement already satisfied: werkzeug>=1.0.1 in /usr/local/lib/python3.10/dist-packages (from tensorboard->torchpack>=0.3.0->torchquantum==0.1.7) (2.3.0)\n",
            "Requirement already satisfied: wheel>=0.26 in /usr/local/lib/python3.10/dist-packages (from tensorboard->torchpack>=0.3.0->torchquantum==0.1.7) (0.40.0)\n",
            "Requirement already satisfied: termcolor>=1.1 in /usr/local/lib/python3.10/dist-packages (from tensorpack->torchpack>=0.3.0->torchquantum==0.1.7) (2.3.0)\n",
            "Requirement already satisfied: tabulate>=0.7.7 in /usr/local/lib/python3.10/dist-packages (from tensorpack->torchpack>=0.3.0->torchquantum==0.1.7) (0.8.10)\n",
            "Requirement already satisfied: msgpack>=0.5.2 in /usr/local/lib/python3.10/dist-packages (from tensorpack->torchpack>=0.3.0->torchquantum==0.1.7) (1.0.5)\n",
            "Collecting msgpack-numpy>=0.4.4.2 (from tensorpack->torchpack>=0.3.0->torchquantum==0.1.7)\n",
            "  Downloading msgpack_numpy-0.4.8-py2.py3-none-any.whl (6.9 kB)\n",
            "Requirement already satisfied: pyzmq>=16 in /usr/local/lib/python3.10/dist-packages (from tensorpack->torchpack>=0.3.0->torchquantum==0.1.7) (23.2.1)\n",
            "Requirement already satisfied: cachetools<6.0,>=2.0.0 in /usr/local/lib/python3.10/dist-packages (from google-auth<3,>=1.6.3->tensorboard->torchpack>=0.3.0->torchquantum==0.1.7) (5.3.0)\n",
            "Requirement already satisfied: pyasn1-modules>=0.2.1 in /usr/local/lib/python3.10/dist-packages (from google-auth<3,>=1.6.3->tensorboard->torchpack>=0.3.0->torchquantum==0.1.7) (0.3.0)\n",
            "Requirement already satisfied: rsa<5,>=3.1.4 in /usr/local/lib/python3.10/dist-packages (from google-auth<3,>=1.6.3->tensorboard->torchpack>=0.3.0->torchquantum==0.1.7) (4.9)\n",
            "Requirement already satisfied: requests-oauthlib>=0.7.0 in /usr/local/lib/python3.10/dist-packages (from google-auth-oauthlib<1.1,>=0.5->tensorboard->torchpack>=0.3.0->torchquantum==0.1.7) (1.3.1)\n",
            "Requirement already satisfied: cryptography>=1.3 in /usr/local/lib/python3.10/dist-packages (from requests-ntlm>=1.1.0->qiskit-ibmq-provider==0.19.2->qiskit==0.38.0->torchquantum==0.1.7) (40.0.2)\n",
            "Collecting pyspnego>=0.1.6 (from requests-ntlm>=1.1.0->qiskit-ibmq-provider==0.19.2->qiskit==0.38.0->torchquantum==0.1.7)\n",
            "  Downloading pyspnego-0.9.0-py3-none-any.whl (132 kB)\n",
            "\u001b[2K     \u001b[90m━━━━━━━━━━━━━━━━━━━━━━━━━━━━━━━━━━━━━━\u001b[0m \u001b[32m132.7/132.7 kB\u001b[0m \u001b[31m11.8 MB/s\u001b[0m eta \u001b[36m0:00:00\u001b[0m\n",
            "\u001b[?25hCollecting rustworkx==0.12.1 (from retworkx>=0.11.0->qiskit-terra==0.21.2->qiskit==0.38.0->torchquantum==0.1.7)\n",
            "  Downloading rustworkx-0.12.1-cp310-cp310-manylinux_2_17_x86_64.manylinux2014_x86_64.whl (1.9 MB)\n",
            "\u001b[2K     \u001b[90m━━━━━━━━━━━━━━━━━━━━━━━━━━━━━━━━━━━━━━━━\u001b[0m \u001b[32m1.9/1.9 MB\u001b[0m \u001b[31m54.2 MB/s\u001b[0m eta \u001b[36m0:00:00\u001b[0m\n",
            "\u001b[?25hCollecting pbr!=2.1.0,>=2.0.0 (from stevedore>=3.0.0->qiskit-terra==0.21.2->qiskit==0.38.0->torchquantum==0.1.7)\n",
            "  Downloading pbr-5.11.1-py2.py3-none-any.whl (112 kB)\n",
            "\u001b[2K     \u001b[90m━━━━━━━━━━━━━━━━━━━━━━━━━━━━━━━━━━━━━━\u001b[0m \u001b[32m112.7/112.7 kB\u001b[0m \u001b[31m11.5 MB/s\u001b[0m eta \u001b[36m0:00:00\u001b[0m\n",
            "\u001b[?25hRequirement already satisfied: cffi>=1.12 in /usr/local/lib/python3.10/dist-packages (from cryptography>=1.3->requests-ntlm>=1.1.0->qiskit-ibmq-provider==0.19.2->qiskit==0.38.0->torchquantum==0.1.7) (1.15.1)\n",
            "Requirement already satisfied: pyasn1<0.6.0,>=0.4.6 in /usr/local/lib/python3.10/dist-packages (from pyasn1-modules>=0.2.1->google-auth<3,>=1.6.3->tensorboard->torchpack>=0.3.0->torchquantum==0.1.7) (0.5.0)\n",
            "Requirement already satisfied: oauthlib>=3.0.0 in /usr/local/lib/python3.10/dist-packages (from requests-oauthlib>=0.7.0->google-auth-oauthlib<1.1,>=0.5->tensorboard->torchpack>=0.3.0->torchquantum==0.1.7) (3.2.2)\n",
            "Requirement already satisfied: pycparser in /usr/local/lib/python3.10/dist-packages (from cffi>=1.12->cryptography>=1.3->requests-ntlm>=1.1.0->qiskit-ibmq-provider==0.19.2->qiskit==0.38.0->torchquantum==0.1.7) (2.21)\n",
            "Building wheels for collected packages: qiskit, pylatexenc\n",
            "  Building wheel for qiskit (setup.py) ... \u001b[?25l\u001b[?25hdone\n",
            "  Created wheel for qiskit: filename=qiskit-0.38.0-py3-none-any.whl size=12128 sha256=4f7f0a0ad10fc979b9d35c9ab5851f0edc5c4661e807161ab1b13170575857c8\n",
            "  Stored in directory: /root/.cache/pip/wheels/9c/b0/59/d6281e20610c76a5f88c9b931c6b338410f70b4ba6561453bc\n",
            "  Building wheel for pylatexenc (setup.py) ... \u001b[?25l\u001b[?25hdone\n",
            "  Created wheel for pylatexenc: filename=pylatexenc-2.10-py3-none-any.whl size=136820 sha256=27ea7bd84314063cf13f0bc9b2890f6314fa9969d41ba1bd4ac5be1c7ccae66c\n",
            "  Stored in directory: /root/.cache/pip/wheels/d3/31/8b/e09b0386afd80cfc556c00408c9aeea5c35c4d484a9c762fd5\n",
            "Successfully built qiskit pylatexenc\n",
            "Installing collected packages: pylatexenc, ply, websockets, tweedledum, symengine, rustworkx, ppft, pox, pbr, multimethod, msgpack-numpy, loguru, dill, tensorpack, stevedore, retworkx, multiprocess, qiskit-terra, pyspnego, pathos, requests-ntlm, qiskit-aer, qiskit-ibmq-provider, qiskit, torchpack, torchquantum\n",
            "  Running setup.py develop for torchquantum\n",
            "Successfully installed dill-0.3.4 loguru-0.7.0 msgpack-numpy-0.4.8 multimethod-1.9.1 multiprocess-0.70.12.2 pathos-0.2.8 pbr-5.11.1 ply-3.11 pox-0.3.2 ppft-1.7.6.6 pylatexenc-2.10 pyspnego-0.9.0 qiskit-0.38.0 qiskit-aer-0.11.0 qiskit-ibmq-provider-0.19.2 qiskit-terra-0.21.2 requests-ntlm-1.2.0 retworkx-0.12.1 rustworkx-0.12.1 stevedore-5.1.0 symengine-0.10.0 tensorpack-0.11 torchpack-0.3.1 torchquantum-0.1.7 tweedledum-1.1.1 websockets-11.0.3\n"
          ]
        }
      ],
      "source": [
        "!pip install --editable ."
      ]
    },
    {
      "cell_type": "code",
      "execution_count": null,
      "metadata": {
        "colab": {
          "base_uri": "https://localhost:8080/"
        },
        "id": "l72ZuDsXGHGk",
        "outputId": "6e6668bd-6657-4a4d-c2e3-ec993daadf0b"
      },
      "outputs": [
        {
          "name": "stdout",
          "output_type": "stream",
          "text": [
            "env: PYTHONPATH=.\n"
          ]
        }
      ],
      "source": [
        "%env PYTHONPATH=."
      ]
    },
    {
      "cell_type": "markdown",
      "metadata": {
        "id": "zRmn6K6DOL-n"
      },
      "source": [
        "## Importing modules\n",
        "\n",
        "\n"
      ]
    },
    {
      "cell_type": "code",
      "execution_count": null,
      "metadata": {
        "id": "YkPdVBrnFjay"
      },
      "outputs": [],
      "source": [
        "import math\n",
        "\n",
        "import torch\n",
        "import torch.nn as nn\n",
        "import torch.nn.functional as F\n",
        "from torch.nn.utils.rnn import pad_sequence\n",
        "import torchquantum as tq\n",
        "import torchquantum.functional as tqf\n",
        "import argparse\n",
        "import tqdm\n",
        "import time"
      ]
    },
    {
      "cell_type": "markdown",
      "metadata": {
        "id": "f5ueV7ixQWX6"
      },
      "source": [
        "##Step 1: Preparing the 2-qubit bell pair\n",
        "\n",
        "To prepare an entangled state, we use the Hadamard gate (h) and the CNOT gate (cx). The Hadamard gate (h) is applied to the first qubit (qubit 0) to put it \n",
        "into a superposition of |0⟩ and |1⟩. This creates an entangled state between the two qubits. The controlled-X gate (cx) is applied with the first qubit as the control and the second qubit as the target. It entangles the qubits further and prepares them for superdense coding. Let's wrap this all up in a function.\n"
      ]
    },
    {
      "cell_type": "code",
      "execution_count": null,
      "metadata": {
        "id": "FT4yfAg2Fjge"
      },
      "outputs": [],
      "source": [
        "def bell_pair():\n",
        "  qdev = tq.QuantumDevice(n_wires=2, bsz=1, device=\"cpu\")\n",
        "  qdev.h(wires=0)\n",
        "  qdev.cnot(wires=[0, 1])\n",
        "  return qdev"
      ]
    },
    {
      "cell_type": "markdown",
      "metadata": {
        "id": "CVax-ADHRly1"
      },
      "source": [
        "## Step 2: Encoding the message\n",
        "Here, we develop a function to encrypt any message with classical bits 00, 01, 10 and 11 that Alice wishes to transmit over the channel."
      ]
    },
    {
      "cell_type": "code",
      "execution_count": null,
      "metadata": {
        "id": "h2nTeMzzFjjS"
      },
      "outputs": [],
      "source": [
        "def encode_message(qdev, qubit, msg):\n",
        "    if len(msg) != 2 or not set(msg).issubset({\"0\",\"1\"}):\n",
        "        raise ValueError(f\"message '{msg}' is invalid\")\n",
        "    if msg[1] == \"1\":\n",
        "        qdev.x(wires=qubit)\n",
        "    if msg[0] == \"1\":\n",
        "        qdev.z(wires=qubit)\n",
        "    return qdev"
      ]
    },
    {
      "cell_type": "markdown",
      "metadata": {
        "id": "dhEp1xzEXDBk"
      },
      "source": [
        "## Step 3 - Decoding the message\n",
        "Once Alice has encoded her message, she sends her qubit to Bob. Bob can then decode the message by applying the corresponding gates to his qubit. Bob applies a controlled-X gate (cx) with the first qubit as the control and the second qubit as the target. This operation \"transfers\" the encoded message from Alice's qubit to Bob's qubit. Then, Bob applies a Hadamard gate (h) to the first qubit. This allows Bob to extract the original classical bits."
      ]
    },
    {
      "cell_type": "code",
      "execution_count": null,
      "metadata": {
        "id": "-_QvwabmH0nK"
      },
      "outputs": [],
      "source": [
        "def decode_message(qdev):\n",
        "    qdev.cx(wires=[0, 1])\n",
        "    qdev.h(wires=0)\n",
        "    return qdev"
      ]
    },
    {
      "cell_type": "markdown",
      "metadata": {
        "id": "0tGZQCYQXtkg"
      },
      "source": [
        "Putting all these functions together"
      ]
    },
    {
      "cell_type": "code",
      "execution_count": null,
      "metadata": {
        "id": "NgWcSzf_IBOM"
      },
      "outputs": [],
      "source": [
        "qdev = bell_pair() # Creating the entangled pair between Alice and Bob\n",
        "\n",
        "message = '10'\n",
        "qdev = encode_message(qdev, 1, message) # Encoding the message at Alice's end\n",
        "\n",
        "qdev = decode_message(qdev) # Decoding the original message at Bob's end"
      ]
    },
    {
      "cell_type": "markdown",
      "metadata": {
        "id": "BMVr6t2jZKtY"
      },
      "source": [
        "## Step 4 - Measurement \n",
        "Finally, Bob can measure the qubits to extract the encoded message. The `tq.measure` function in `torchquantum` is used to measure the qubits. This collapses the qubits into classical states, and the measurement results give us the original message bits '10' sent by Alice with a probability of 100%."
      ]
    },
    {
      "cell_type": "code",
      "execution_count": null,
      "metadata": {
        "colab": {
          "base_uri": "https://localhost:8080/"
        },
        "id": "5aSIUmjcgO59",
        "outputId": "84eb1859-5ff9-45b0-c1c4-dc5d15b928a3"
      },
      "outputs": [
        {
          "name": "stdout",
          "output_type": "stream",
          "text": [
            "[OrderedDict([('00', 0), ('01', 0), ('10', 1024), ('11', 0)])]\n"
          ]
        }
      ],
      "source": [
        "print(tq.measure(qdev, n_shots=1024)) # Finally, Bob measures his qubits to read Alice's message"
      ]
    },
    {
      "cell_type": "markdown",
      "metadata": {
        "id": "OPSRH4sWgpr2"
      },
      "source": [
        "The `tq.measure function` in `torchquantum` is used to measure the qubits. This collapses the qubits into classical states, and the measurement results give us the original message bits '10' sent by Alice with a probability of 100%."
      ]
    },
    {
      "cell_type": "markdown",
      "metadata": {
        "id": "nFC9-bqHbG2I"
      },
      "source": [
        "## References:\n",
        "\n",
        "[1] Bennett, C.H., Brassard, G., Crépeau, C., Jozsa, R., Peres, A. and Wootters, W.K., 1993. Teleporting an unknown quantum state via dual classical and Einstein-Podolsky-Rosen channels. Physical review letters, 70(13), p.1895.\n",
        "\n",
        "[2] Bennett, C.H. and Wiesner, S.J., 1992. Communication via one-and two-particle operators on Einstein-Podolsky-Rosen states. Physical review letters, 69(20), p.2881.\n",
        "\n",
        "[3] [Superdense Coding - Qiskit](https://learn.qiskit.org/course/ch-algorithms/superdense-coding) \n",
        "\n",
        "[4] [Superdense coding - Wikipedia](https://en.wikipedia.org/wiki/Superdense_coding#:~:text=This%20protocol%20was%20first%20proposed,Zeilinger%20using%20entangled%20photon%20pairs.)"
      ]
    }
  ],
  "metadata": {
    "colab": {
      "provenance": []
    },
    "kernelspec": {
      "display_name": "Python 3.9.1 64-bit",
      "language": "python",
      "name": "python3"
    },
    "language_info": {
      "name": "python",
      "version": "3.9.1"
    },
    "vscode": {
      "interpreter": {
        "hash": "f47b391bd15bf26b0169f7ceae5f0850671515af690364a96e8770f85f88a683"
      }
    }
  },
  "nbformat": 4,
  "nbformat_minor": 0
}
